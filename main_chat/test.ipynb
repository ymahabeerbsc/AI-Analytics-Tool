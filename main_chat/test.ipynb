{
 "cells": [
  {
   "cell_type": "code",
   "execution_count": 1,
   "metadata": {},
   "outputs": [
    {
     "name": "stdout",
     "output_type": "stream",
     "text": [
      "Suppliers to cut to save 60 thousand rand:\n",
      "                                           Supplier    Net_Price  \\\n",
      "305        Y36141     LINDEB MANAGEMENT SERVICES CC  8727.955357   \n",
      "306          X66724     VUKANI MUSA CONSTRUCTION CC  6334.665098   \n",
      "307         X53267     KATHU LOCKSMITH AND SIGNS CC   830.000000   \n",
      "308       Y12066     SIGOUGOU TRADING ENTERPRISE CC  8179.473974   \n",
      "309  Y84162     MARIUS & SONS GENERAL MAINTENANCE (  2291.180000   \n",
      "286       Y12066     SIGOUGOU TRADING ENTERPRISE CC  1958.936000   \n",
      "\n",
      "     Overall_Rank_SubActivity  \n",
      "305                         1  \n",
      "306                         1  \n",
      "307                         1  \n",
      "308                         2  \n",
      "309                         2  \n",
      "286                         3  \n"
     ]
    }
   ],
   "source": [
    "import pandas as pd\n",
    "\n",
    "data = pd.read_csv('CD_with_clusters_and_ranking.csv')\n",
    "\n",
    "filtered_data = data[(data['Activity'] == 'Maintenance') & (data['Sub_Activity'] == 'Civil Works')]\n",
    "\n",
    "sorted_suppliers = filtered_data.sort_values(by=['Overall_Rank_SubActivity', 'Net_Price'], ascending=[True, False])\n",
    "\n",
    "sorted_suppliers['Cumulative_Net_Price'] = sorted_suppliers['Net_Price'].cumsum()\n",
    "\n",
    "target_savings = 60000\n",
    "suppliers_to_cut = sorted_suppliers[sorted_suppliers['Cumulative_Net_Price'] <= target_savings]\n",
    "\n",
    "print(\"Suppliers to cut to save 60 thousand rand:\")\n",
    "print(suppliers_to_cut[['Supplier', 'Net_Price', 'Overall_Rank_SubActivity']])"
   ]
  }
 ],
 "metadata": {
  "kernelspec": {
   "display_name": "Python 3",
   "language": "python",
   "name": "python3"
  },
  "language_info": {
   "codemirror_mode": {
    "name": "ipython",
    "version": 3
   },
   "file_extension": ".py",
   "mimetype": "text/x-python",
   "name": "python",
   "nbconvert_exporter": "python",
   "pygments_lexer": "ipython3",
   "version": "3.12.7"
  }
 },
 "nbformat": 4,
 "nbformat_minor": 2
}
